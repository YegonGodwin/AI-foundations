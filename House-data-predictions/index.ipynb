{
 "cells": [
  {
   "cell_type": "markdown",
   "metadata": {},
   "source": [
    "<h3>House Price predictions</h3>"
   ]
  },
  {
   "cell_type": "code",
   "execution_count": 1,
   "metadata": {},
   "outputs": [
    {
     "name": "stdout",
     "output_type": "stream",
     "text": [
      "Hello world\n"
     ]
    }
   ],
   "source": [
    "print(\"Hello world\")"
   ]
  },
  {
   "cell_type": "code",
   "execution_count": 3,
   "metadata": {},
   "outputs": [
    {
     "name": "stdout",
     "output_type": "stream",
     "text": [
      "Defaulting to user installation because normal site-packages is not writeable\n",
      "Collecting pandas\n",
      "  Downloading pandas-2.2.3-cp313-cp313-win_amd64.whl.metadata (19 kB)\n",
      "Requirement already satisfied: numpy in c:\\users\\godwin\\appdata\\roaming\\python\\python313\\site-packages (2.2.4)\n",
      "Requirement already satisfied: python-dateutil>=2.8.2 in c:\\users\\godwin\\appdata\\roaming\\python\\python313\\site-packages (from pandas) (2.9.0.post0)\n",
      "Collecting pytz>=2020.1 (from pandas)\n",
      "  Downloading pytz-2025.2-py2.py3-none-any.whl.metadata (22 kB)\n",
      "Collecting tzdata>=2022.7 (from pandas)\n",
      "  Downloading tzdata-2025.2-py2.py3-none-any.whl.metadata (1.4 kB)\n",
      "Requirement already satisfied: six>=1.5 in c:\\users\\godwin\\appdata\\roaming\\python\\python313\\site-packages (from python-dateutil>=2.8.2->pandas) (1.17.0)\n",
      "Downloading pandas-2.2.3-cp313-cp313-win_amd64.whl (11.5 MB)\n",
      "   ---------------------------------------- 0.0/11.5 MB ? eta -:--:--\n",
      "   ---------------------------------------- 0.0/11.5 MB ? eta -:--:--\n",
      "    --------------------------------------- 0.3/11.5 MB ? eta -:--:--\n",
      "   - -------------------------------------- 0.5/11.5 MB 1.5 MB/s eta 0:00:08\n",
      "   -- ------------------------------------- 0.8/11.5 MB 1.7 MB/s eta 0:00:07\n",
      "   ----- ---------------------------------- 1.6/11.5 MB 2.1 MB/s eta 0:00:05\n",
      "   ------- -------------------------------- 2.1/11.5 MB 2.2 MB/s eta 0:00:05\n",
      "   ---------- ----------------------------- 3.1/11.5 MB 2.8 MB/s eta 0:00:03\n",
      "   ------------- -------------------------- 3.9/11.5 MB 2.8 MB/s eta 0:00:03\n",
      "   ------------- -------------------------- 3.9/11.5 MB 2.8 MB/s eta 0:00:03\n",
      "   ---------------- ----------------------- 4.7/11.5 MB 2.5 MB/s eta 0:00:03\n",
      "   ----------------- ---------------------- 5.0/11.5 MB 2.4 MB/s eta 0:00:03\n",
      "   ------------------ --------------------- 5.2/11.5 MB 2.4 MB/s eta 0:00:03\n",
      "   ------------------ --------------------- 5.2/11.5 MB 2.4 MB/s eta 0:00:03\n",
      "   -------------------- ------------------- 5.8/11.5 MB 2.1 MB/s eta 0:00:03\n",
      "   -------------------- ------------------- 5.8/11.5 MB 2.1 MB/s eta 0:00:03\n",
      "   --------------------- ------------------ 6.0/11.5 MB 2.0 MB/s eta 0:00:03\n",
      "   --------------------- ------------------ 6.3/11.5 MB 1.9 MB/s eta 0:00:03\n",
      "   --------------------- ------------------ 6.3/11.5 MB 1.9 MB/s eta 0:00:03\n",
      "   ---------------------- ----------------- 6.6/11.5 MB 1.7 MB/s eta 0:00:03\n",
      "   ---------------------- ----------------- 6.6/11.5 MB 1.7 MB/s eta 0:00:03\n",
      "   ---------------------- ----------------- 6.6/11.5 MB 1.7 MB/s eta 0:00:03\n",
      "   ---------------------- ----------------- 6.6/11.5 MB 1.7 MB/s eta 0:00:03\n",
      "   ----------------------- ---------------- 6.8/11.5 MB 1.5 MB/s eta 0:00:04\n",
      "   ----------------------- ---------------- 6.8/11.5 MB 1.5 MB/s eta 0:00:04\n",
      "   ----------------------- ---------------- 6.8/11.5 MB 1.5 MB/s eta 0:00:04\n",
      "   ------------------------ --------------- 7.1/11.5 MB 1.3 MB/s eta 0:00:04\n",
      "   ------------------------ --------------- 7.1/11.5 MB 1.3 MB/s eta 0:00:04\n",
      "   ------------------------ --------------- 7.1/11.5 MB 1.3 MB/s eta 0:00:04\n",
      "   ------------------------- -------------- 7.3/11.5 MB 1.2 MB/s eta 0:00:04\n",
      "   ------------------------- -------------- 7.3/11.5 MB 1.2 MB/s eta 0:00:04\n",
      "   ------------------------- -------------- 7.3/11.5 MB 1.2 MB/s eta 0:00:04\n",
      "   -------------------------- ------------- 7.6/11.5 MB 1.1 MB/s eta 0:00:04\n",
      "   -------------------------- ------------- 7.6/11.5 MB 1.1 MB/s eta 0:00:04\n",
      "   -------------------------- ------------- 7.6/11.5 MB 1.1 MB/s eta 0:00:04\n",
      "   --------------------------- ------------ 7.9/11.5 MB 1.1 MB/s eta 0:00:04\n",
      "   --------------------------- ------------ 7.9/11.5 MB 1.1 MB/s eta 0:00:04\n",
      "   ---------------------------- ----------- 8.1/11.5 MB 1.0 MB/s eta 0:00:04\n",
      "   ----------------------------- ---------- 8.4/11.5 MB 974.0 kB/s eta 0:00:04\n",
      "   ----------------------------- ---------- 8.4/11.5 MB 974.0 kB/s eta 0:00:04\n",
      "   ----------------------------- ---------- 8.4/11.5 MB 974.0 kB/s eta 0:00:04\n",
      "   ----------------------------- ---------- 8.4/11.5 MB 974.0 kB/s eta 0:00:04\n",
      "   ------------------------------ --------- 8.7/11.5 MB 911.5 kB/s eta 0:00:04\n",
      "   ------------------------------ --------- 8.7/11.5 MB 911.5 kB/s eta 0:00:04\n",
      "   ------------------------------ --------- 8.7/11.5 MB 911.5 kB/s eta 0:00:04\n",
      "   ------------------------------ --------- 8.7/11.5 MB 911.5 kB/s eta 0:00:04\n",
      "   ------------------------------ --------- 8.7/11.5 MB 911.5 kB/s eta 0:00:04\n",
      "   ------------------------------ --------- 8.7/11.5 MB 911.5 kB/s eta 0:00:04\n",
      "   ------------------------------- -------- 8.9/11.5 MB 813.4 kB/s eta 0:00:04\n",
      "   ------------------------------- -------- 8.9/11.5 MB 813.4 kB/s eta 0:00:04\n",
      "   ------------------------------- -------- 8.9/11.5 MB 813.4 kB/s eta 0:00:04\n",
      "   ------------------------------- -------- 8.9/11.5 MB 813.4 kB/s eta 0:00:04\n",
      "   ------------------------------- -------- 8.9/11.5 MB 813.4 kB/s eta 0:00:04\n",
      "   ------------------------------- -------- 8.9/11.5 MB 813.4 kB/s eta 0:00:04\n",
      "   ------------------------------- -------- 9.2/11.5 MB 745.7 kB/s eta 0:00:04\n",
      "   ------------------------------- -------- 9.2/11.5 MB 745.7 kB/s eta 0:00:04\n",
      "   ------------------------------- -------- 9.2/11.5 MB 745.7 kB/s eta 0:00:04\n",
      "   ------------------------------- -------- 9.2/11.5 MB 745.7 kB/s eta 0:00:04\n",
      "   ------------------------------- -------- 9.2/11.5 MB 745.7 kB/s eta 0:00:04\n",
      "   ------------------------------- -------- 9.2/11.5 MB 745.7 kB/s eta 0:00:04\n",
      "   -------------------------------- ------- 9.4/11.5 MB 688.4 kB/s eta 0:00:03\n",
      "   -------------------------------- ------- 9.4/11.5 MB 688.4 kB/s eta 0:00:03\n",
      "   -------------------------------- ------- 9.4/11.5 MB 688.4 kB/s eta 0:00:03\n",
      "   -------------------------------- ------- 9.4/11.5 MB 688.4 kB/s eta 0:00:03\n",
      "   -------------------------------- ------- 9.4/11.5 MB 688.4 kB/s eta 0:00:03\n",
      "   --------------------------------- ------ 9.7/11.5 MB 650.1 kB/s eta 0:00:03\n",
      "   --------------------------------- ------ 9.7/11.5 MB 650.1 kB/s eta 0:00:03\n",
      "   --------------------------------- ------ 9.7/11.5 MB 650.1 kB/s eta 0:00:03\n",
      "   --------------------------------- ------ 9.7/11.5 MB 650.1 kB/s eta 0:00:03\n",
      "   --------------------------------- ------ 9.7/11.5 MB 650.1 kB/s eta 0:00:03\n",
      "   ---------------------------------- ----- 10.0/11.5 MB 617.9 kB/s eta 0:00:03\n",
      "   ---------------------------------- ----- 10.0/11.5 MB 617.9 kB/s eta 0:00:03\n",
      "   ---------------------------------- ----- 10.0/11.5 MB 617.9 kB/s eta 0:00:03\n",
      "   ---------------------------------- ----- 10.0/11.5 MB 617.9 kB/s eta 0:00:03\n",
      "   ---------------------------------- ----- 10.0/11.5 MB 617.9 kB/s eta 0:00:03\n",
      "   ----------------------------------- ---- 10.2/11.5 MB 592.9 kB/s eta 0:00:03\n",
      "   ----------------------------------- ---- 10.2/11.5 MB 592.9 kB/s eta 0:00:03\n",
      "   ----------------------------------- ---- 10.2/11.5 MB 592.9 kB/s eta 0:00:03\n",
      "   ----------------------------------- ---- 10.2/11.5 MB 592.9 kB/s eta 0:00:03\n",
      "   ----------------------------------- ---- 10.2/11.5 MB 592.9 kB/s eta 0:00:03\n",
      "   ------------------------------------ --- 10.5/11.5 MB 572.3 kB/s eta 0:00:02\n",
      "   ------------------------------------ --- 10.5/11.5 MB 572.3 kB/s eta 0:00:02\n",
      "   ------------------------------------ --- 10.5/11.5 MB 572.3 kB/s eta 0:00:02\n",
      "   ------------------------------------ --- 10.5/11.5 MB 572.3 kB/s eta 0:00:02\n",
      "   ------------------------------------- -- 10.7/11.5 MB 560.8 kB/s eta 0:00:02\n",
      "   ------------------------------------- -- 10.7/11.5 MB 560.8 kB/s eta 0:00:02\n",
      "   ------------------------------------- -- 10.7/11.5 MB 560.8 kB/s eta 0:00:02\n",
      "   ------------------------------------- -- 10.7/11.5 MB 560.8 kB/s eta 0:00:02\n",
      "   -------------------------------------- - 11.0/11.5 MB 550.7 kB/s eta 0:00:01\n",
      "   -------------------------------------- - 11.0/11.5 MB 550.7 kB/s eta 0:00:01\n",
      "   -------------------------------------- - 11.0/11.5 MB 550.7 kB/s eta 0:00:01\n",
      "   -------------------------------------- - 11.0/11.5 MB 550.7 kB/s eta 0:00:01\n",
      "   ---------------------------------------  11.3/11.5 MB 537.6 kB/s eta 0:00:01\n",
      "   ---------------------------------------  11.3/11.5 MB 537.6 kB/s eta 0:00:01\n",
      "   ---------------------------------------  11.3/11.5 MB 537.6 kB/s eta 0:00:01\n",
      "   ---------------------------------------  11.3/11.5 MB 537.6 kB/s eta 0:00:01\n",
      "   ---------------------------------------  11.3/11.5 MB 537.6 kB/s eta 0:00:01\n",
      "   ---------------------------------------- 11.5/11.5 MB 520.0 kB/s eta 0:00:00\n",
      "Downloading pytz-2025.2-py2.py3-none-any.whl (509 kB)\n",
      "Downloading tzdata-2025.2-py2.py3-none-any.whl (347 kB)\n",
      "Installing collected packages: pytz, tzdata, pandas\n",
      "Successfully installed pandas-2.2.3 pytz-2025.2 tzdata-2025.2\n",
      "Note: you may need to restart the kernel to use updated packages.\n"
     ]
    },
    {
     "ename": "FileNotFoundError",
     "evalue": "[Errno 2] No such file or directory: 'Bangaluru_House_Data.csv'",
     "output_type": "error",
     "traceback": [
      "\u001b[31m---------------------------------------------------------------------------\u001b[39m",
      "\u001b[31mFileNotFoundError\u001b[39m                         Traceback (most recent call last)",
      "\u001b[36mCell\u001b[39m\u001b[36m \u001b[39m\u001b[32mIn[3]\u001b[39m\u001b[32m, line 6\u001b[39m\n\u001b[32m      4\u001b[39m \u001b[38;5;28;01mimport\u001b[39;00m\u001b[38;5;250m \u001b[39m\u001b[34;01mpandas\u001b[39;00m\u001b[38;5;250m \u001b[39m\u001b[38;5;28;01mas\u001b[39;00m\u001b[38;5;250m \u001b[39m\u001b[34;01mpd\u001b[39;00m\n\u001b[32m      5\u001b[39m \u001b[38;5;28;01mimport\u001b[39;00m\u001b[38;5;250m \u001b[39m\u001b[34;01mnumpy\u001b[39;00m\u001b[38;5;250m \u001b[39m\u001b[38;5;28;01mas\u001b[39;00m\u001b[38;5;250m \u001b[39m\u001b[34;01mnp\u001b[39;00m\n\u001b[32m----> \u001b[39m\u001b[32m6\u001b[39m df = \u001b[43mpd\u001b[49m\u001b[43m.\u001b[49m\u001b[43mread_csv\u001b[49m\u001b[43m(\u001b[49m\u001b[33;43m\"\u001b[39;49m\u001b[33;43mBangaluru_House_Data.csv\u001b[39;49m\u001b[33;43m\"\u001b[39;49m\u001b[43m)\u001b[49m\n\u001b[32m      7\u001b[39m df.head()\n",
      "\u001b[36mFile \u001b[39m\u001b[32m~\\AppData\\Roaming\\Python\\Python313\\site-packages\\pandas\\io\\parsers\\readers.py:1026\u001b[39m, in \u001b[36mread_csv\u001b[39m\u001b[34m(filepath_or_buffer, sep, delimiter, header, names, index_col, usecols, dtype, engine, converters, true_values, false_values, skipinitialspace, skiprows, skipfooter, nrows, na_values, keep_default_na, na_filter, verbose, skip_blank_lines, parse_dates, infer_datetime_format, keep_date_col, date_parser, date_format, dayfirst, cache_dates, iterator, chunksize, compression, thousands, decimal, lineterminator, quotechar, quoting, doublequote, escapechar, comment, encoding, encoding_errors, dialect, on_bad_lines, delim_whitespace, low_memory, memory_map, float_precision, storage_options, dtype_backend)\u001b[39m\n\u001b[32m   1013\u001b[39m kwds_defaults = _refine_defaults_read(\n\u001b[32m   1014\u001b[39m     dialect,\n\u001b[32m   1015\u001b[39m     delimiter,\n\u001b[32m   (...)\u001b[39m\u001b[32m   1022\u001b[39m     dtype_backend=dtype_backend,\n\u001b[32m   1023\u001b[39m )\n\u001b[32m   1024\u001b[39m kwds.update(kwds_defaults)\n\u001b[32m-> \u001b[39m\u001b[32m1026\u001b[39m \u001b[38;5;28;01mreturn\u001b[39;00m \u001b[43m_read\u001b[49m\u001b[43m(\u001b[49m\u001b[43mfilepath_or_buffer\u001b[49m\u001b[43m,\u001b[49m\u001b[43m \u001b[49m\u001b[43mkwds\u001b[49m\u001b[43m)\u001b[49m\n",
      "\u001b[36mFile \u001b[39m\u001b[32m~\\AppData\\Roaming\\Python\\Python313\\site-packages\\pandas\\io\\parsers\\readers.py:620\u001b[39m, in \u001b[36m_read\u001b[39m\u001b[34m(filepath_or_buffer, kwds)\u001b[39m\n\u001b[32m    617\u001b[39m _validate_names(kwds.get(\u001b[33m\"\u001b[39m\u001b[33mnames\u001b[39m\u001b[33m\"\u001b[39m, \u001b[38;5;28;01mNone\u001b[39;00m))\n\u001b[32m    619\u001b[39m \u001b[38;5;66;03m# Create the parser.\u001b[39;00m\n\u001b[32m--> \u001b[39m\u001b[32m620\u001b[39m parser = \u001b[43mTextFileReader\u001b[49m\u001b[43m(\u001b[49m\u001b[43mfilepath_or_buffer\u001b[49m\u001b[43m,\u001b[49m\u001b[43m \u001b[49m\u001b[43m*\u001b[49m\u001b[43m*\u001b[49m\u001b[43mkwds\u001b[49m\u001b[43m)\u001b[49m\n\u001b[32m    622\u001b[39m \u001b[38;5;28;01mif\u001b[39;00m chunksize \u001b[38;5;129;01mor\u001b[39;00m iterator:\n\u001b[32m    623\u001b[39m     \u001b[38;5;28;01mreturn\u001b[39;00m parser\n",
      "\u001b[36mFile \u001b[39m\u001b[32m~\\AppData\\Roaming\\Python\\Python313\\site-packages\\pandas\\io\\parsers\\readers.py:1620\u001b[39m, in \u001b[36mTextFileReader.__init__\u001b[39m\u001b[34m(self, f, engine, **kwds)\u001b[39m\n\u001b[32m   1617\u001b[39m     \u001b[38;5;28mself\u001b[39m.options[\u001b[33m\"\u001b[39m\u001b[33mhas_index_names\u001b[39m\u001b[33m\"\u001b[39m] = kwds[\u001b[33m\"\u001b[39m\u001b[33mhas_index_names\u001b[39m\u001b[33m\"\u001b[39m]\n\u001b[32m   1619\u001b[39m \u001b[38;5;28mself\u001b[39m.handles: IOHandles | \u001b[38;5;28;01mNone\u001b[39;00m = \u001b[38;5;28;01mNone\u001b[39;00m\n\u001b[32m-> \u001b[39m\u001b[32m1620\u001b[39m \u001b[38;5;28mself\u001b[39m._engine = \u001b[38;5;28;43mself\u001b[39;49m\u001b[43m.\u001b[49m\u001b[43m_make_engine\u001b[49m\u001b[43m(\u001b[49m\u001b[43mf\u001b[49m\u001b[43m,\u001b[49m\u001b[43m \u001b[49m\u001b[38;5;28;43mself\u001b[39;49m\u001b[43m.\u001b[49m\u001b[43mengine\u001b[49m\u001b[43m)\u001b[49m\n",
      "\u001b[36mFile \u001b[39m\u001b[32m~\\AppData\\Roaming\\Python\\Python313\\site-packages\\pandas\\io\\parsers\\readers.py:1880\u001b[39m, in \u001b[36mTextFileReader._make_engine\u001b[39m\u001b[34m(self, f, engine)\u001b[39m\n\u001b[32m   1878\u001b[39m     \u001b[38;5;28;01mif\u001b[39;00m \u001b[33m\"\u001b[39m\u001b[33mb\u001b[39m\u001b[33m\"\u001b[39m \u001b[38;5;129;01mnot\u001b[39;00m \u001b[38;5;129;01min\u001b[39;00m mode:\n\u001b[32m   1879\u001b[39m         mode += \u001b[33m\"\u001b[39m\u001b[33mb\u001b[39m\u001b[33m\"\u001b[39m\n\u001b[32m-> \u001b[39m\u001b[32m1880\u001b[39m \u001b[38;5;28mself\u001b[39m.handles = \u001b[43mget_handle\u001b[49m\u001b[43m(\u001b[49m\n\u001b[32m   1881\u001b[39m \u001b[43m    \u001b[49m\u001b[43mf\u001b[49m\u001b[43m,\u001b[49m\n\u001b[32m   1882\u001b[39m \u001b[43m    \u001b[49m\u001b[43mmode\u001b[49m\u001b[43m,\u001b[49m\n\u001b[32m   1883\u001b[39m \u001b[43m    \u001b[49m\u001b[43mencoding\u001b[49m\u001b[43m=\u001b[49m\u001b[38;5;28;43mself\u001b[39;49m\u001b[43m.\u001b[49m\u001b[43moptions\u001b[49m\u001b[43m.\u001b[49m\u001b[43mget\u001b[49m\u001b[43m(\u001b[49m\u001b[33;43m\"\u001b[39;49m\u001b[33;43mencoding\u001b[39;49m\u001b[33;43m\"\u001b[39;49m\u001b[43m,\u001b[49m\u001b[43m \u001b[49m\u001b[38;5;28;43;01mNone\u001b[39;49;00m\u001b[43m)\u001b[49m\u001b[43m,\u001b[49m\n\u001b[32m   1884\u001b[39m \u001b[43m    \u001b[49m\u001b[43mcompression\u001b[49m\u001b[43m=\u001b[49m\u001b[38;5;28;43mself\u001b[39;49m\u001b[43m.\u001b[49m\u001b[43moptions\u001b[49m\u001b[43m.\u001b[49m\u001b[43mget\u001b[49m\u001b[43m(\u001b[49m\u001b[33;43m\"\u001b[39;49m\u001b[33;43mcompression\u001b[39;49m\u001b[33;43m\"\u001b[39;49m\u001b[43m,\u001b[49m\u001b[43m \u001b[49m\u001b[38;5;28;43;01mNone\u001b[39;49;00m\u001b[43m)\u001b[49m\u001b[43m,\u001b[49m\n\u001b[32m   1885\u001b[39m \u001b[43m    \u001b[49m\u001b[43mmemory_map\u001b[49m\u001b[43m=\u001b[49m\u001b[38;5;28;43mself\u001b[39;49m\u001b[43m.\u001b[49m\u001b[43moptions\u001b[49m\u001b[43m.\u001b[49m\u001b[43mget\u001b[49m\u001b[43m(\u001b[49m\u001b[33;43m\"\u001b[39;49m\u001b[33;43mmemory_map\u001b[39;49m\u001b[33;43m\"\u001b[39;49m\u001b[43m,\u001b[49m\u001b[43m \u001b[49m\u001b[38;5;28;43;01mFalse\u001b[39;49;00m\u001b[43m)\u001b[49m\u001b[43m,\u001b[49m\n\u001b[32m   1886\u001b[39m \u001b[43m    \u001b[49m\u001b[43mis_text\u001b[49m\u001b[43m=\u001b[49m\u001b[43mis_text\u001b[49m\u001b[43m,\u001b[49m\n\u001b[32m   1887\u001b[39m \u001b[43m    \u001b[49m\u001b[43merrors\u001b[49m\u001b[43m=\u001b[49m\u001b[38;5;28;43mself\u001b[39;49m\u001b[43m.\u001b[49m\u001b[43moptions\u001b[49m\u001b[43m.\u001b[49m\u001b[43mget\u001b[49m\u001b[43m(\u001b[49m\u001b[33;43m\"\u001b[39;49m\u001b[33;43mencoding_errors\u001b[39;49m\u001b[33;43m\"\u001b[39;49m\u001b[43m,\u001b[49m\u001b[43m \u001b[49m\u001b[33;43m\"\u001b[39;49m\u001b[33;43mstrict\u001b[39;49m\u001b[33;43m\"\u001b[39;49m\u001b[43m)\u001b[49m\u001b[43m,\u001b[49m\n\u001b[32m   1888\u001b[39m \u001b[43m    \u001b[49m\u001b[43mstorage_options\u001b[49m\u001b[43m=\u001b[49m\u001b[38;5;28;43mself\u001b[39;49m\u001b[43m.\u001b[49m\u001b[43moptions\u001b[49m\u001b[43m.\u001b[49m\u001b[43mget\u001b[49m\u001b[43m(\u001b[49m\u001b[33;43m\"\u001b[39;49m\u001b[33;43mstorage_options\u001b[39;49m\u001b[33;43m\"\u001b[39;49m\u001b[43m,\u001b[49m\u001b[43m \u001b[49m\u001b[38;5;28;43;01mNone\u001b[39;49;00m\u001b[43m)\u001b[49m\u001b[43m,\u001b[49m\n\u001b[32m   1889\u001b[39m \u001b[43m\u001b[49m\u001b[43m)\u001b[49m\n\u001b[32m   1890\u001b[39m \u001b[38;5;28;01massert\u001b[39;00m \u001b[38;5;28mself\u001b[39m.handles \u001b[38;5;129;01mis\u001b[39;00m \u001b[38;5;129;01mnot\u001b[39;00m \u001b[38;5;28;01mNone\u001b[39;00m\n\u001b[32m   1891\u001b[39m f = \u001b[38;5;28mself\u001b[39m.handles.handle\n",
      "\u001b[36mFile \u001b[39m\u001b[32m~\\AppData\\Roaming\\Python\\Python313\\site-packages\\pandas\\io\\common.py:873\u001b[39m, in \u001b[36mget_handle\u001b[39m\u001b[34m(path_or_buf, mode, encoding, compression, memory_map, is_text, errors, storage_options)\u001b[39m\n\u001b[32m    868\u001b[39m \u001b[38;5;28;01melif\u001b[39;00m \u001b[38;5;28misinstance\u001b[39m(handle, \u001b[38;5;28mstr\u001b[39m):\n\u001b[32m    869\u001b[39m     \u001b[38;5;66;03m# Check whether the filename is to be opened in binary mode.\u001b[39;00m\n\u001b[32m    870\u001b[39m     \u001b[38;5;66;03m# Binary mode does not support 'encoding' and 'newline'.\u001b[39;00m\n\u001b[32m    871\u001b[39m     \u001b[38;5;28;01mif\u001b[39;00m ioargs.encoding \u001b[38;5;129;01mand\u001b[39;00m \u001b[33m\"\u001b[39m\u001b[33mb\u001b[39m\u001b[33m\"\u001b[39m \u001b[38;5;129;01mnot\u001b[39;00m \u001b[38;5;129;01min\u001b[39;00m ioargs.mode:\n\u001b[32m    872\u001b[39m         \u001b[38;5;66;03m# Encoding\u001b[39;00m\n\u001b[32m--> \u001b[39m\u001b[32m873\u001b[39m         handle = \u001b[38;5;28;43mopen\u001b[39;49m\u001b[43m(\u001b[49m\n\u001b[32m    874\u001b[39m \u001b[43m            \u001b[49m\u001b[43mhandle\u001b[49m\u001b[43m,\u001b[49m\n\u001b[32m    875\u001b[39m \u001b[43m            \u001b[49m\u001b[43mioargs\u001b[49m\u001b[43m.\u001b[49m\u001b[43mmode\u001b[49m\u001b[43m,\u001b[49m\n\u001b[32m    876\u001b[39m \u001b[43m            \u001b[49m\u001b[43mencoding\u001b[49m\u001b[43m=\u001b[49m\u001b[43mioargs\u001b[49m\u001b[43m.\u001b[49m\u001b[43mencoding\u001b[49m\u001b[43m,\u001b[49m\n\u001b[32m    877\u001b[39m \u001b[43m            \u001b[49m\u001b[43merrors\u001b[49m\u001b[43m=\u001b[49m\u001b[43merrors\u001b[49m\u001b[43m,\u001b[49m\n\u001b[32m    878\u001b[39m \u001b[43m            \u001b[49m\u001b[43mnewline\u001b[49m\u001b[43m=\u001b[49m\u001b[33;43m\"\u001b[39;49m\u001b[33;43m\"\u001b[39;49m\u001b[43m,\u001b[49m\n\u001b[32m    879\u001b[39m \u001b[43m        \u001b[49m\u001b[43m)\u001b[49m\n\u001b[32m    880\u001b[39m     \u001b[38;5;28;01melse\u001b[39;00m:\n\u001b[32m    881\u001b[39m         \u001b[38;5;66;03m# Binary mode\u001b[39;00m\n\u001b[32m    882\u001b[39m         handle = \u001b[38;5;28mopen\u001b[39m(handle, ioargs.mode)\n",
      "\u001b[31mFileNotFoundError\u001b[39m: [Errno 2] No such file or directory: 'Bangaluru_House_Data.csv'"
     ]
    }
   ],
   "source": [
    "# Install pandas and numpy if not already installed\n",
    "%pip install pandas numpy\n",
    "\n",
    "import pandas as pd\n",
    "import numpy as np\n",
    "df = pd.read_csv(\"Bangaluru_House_Data.csv\")\n",
    "df.head()"
   ]
  },
  {
   "cell_type": "code",
   "execution_count": 4,
   "metadata": {},
   "outputs": [
    {
     "name": "stdout",
     "output_type": "stream",
     "text": [
      "                             coaster_name          Length             Speed  \\\n",
      "0                      Switchback Railway  600 ft (180 m)  6 mph (9.7 km/h)   \n",
      "1                       Flip Flap Railway             NaN               NaN   \n",
      "2  Switchback Railway (Euclid Beach Park)             NaN               NaN   \n",
      "3            Loop the Loop (Coney Island)             NaN               NaN   \n",
      "4            Loop the Loop (Young's Pier)             NaN               NaN   \n",
      "\n",
      "                         Location   Status   Opening date   Type  \\\n",
      "0                    Coney Island  Removed  June 16, 1884   Wood   \n",
      "1                   Sea Lion Park  Removed           1895   Wood   \n",
      "2  Cleveland, Ohio, United States   Closed            NaN  Other   \n",
      "3                           Other  Removed           1901  Steel   \n",
      "4                           Other  Removed           1901  Steel   \n",
      "\n",
      "             Manufacturer Height restriction        Model  ...  speed1  \\\n",
      "0  LaMarcus Adna Thompson                NaN  Lift Packed  ...  6 mph    \n",
      "1            Lina Beecher                NaN          NaN  ...     NaN   \n",
      "2                     NaN                NaN          NaN  ...     NaN   \n",
      "3          Edwin Prescott                NaN          NaN  ...     NaN   \n",
      "4          Edwin Prescott                NaN          NaN  ...     NaN   \n",
      "\n",
      "     speed2 speed1_value speed1_unit speed_mph height_value height_unit  \\\n",
      "0  9.7 km/h          6.0         mph       6.0         50.0          ft   \n",
      "1       NaN          NaN         NaN       NaN          NaN         NaN   \n",
      "2       NaN          NaN         NaN       NaN          NaN         NaN   \n",
      "3       NaN          NaN         NaN       NaN          NaN         NaN   \n",
      "4       NaN          NaN         NaN       NaN          NaN         NaN   \n",
      "\n",
      "  height_ft Inversions_clean Gforce_clean  \n",
      "0       NaN                0          2.9  \n",
      "1       NaN                1         12.0  \n",
      "2       NaN                0          NaN  \n",
      "3       NaN                1          NaN  \n",
      "4       NaN                1          NaN  \n",
      "\n",
      "[5 rows x 56 columns]\n"
     ]
    }
   ],
   "source": [
    "import pandas as pd\n",
    "import numpy as np\n",
    "\n",
    "df = pd.read_csv(\"coaster_db.csv\")\n",
    "print(df.head())"
   ]
  },
  {
   "cell_type": "code",
   "execution_count": null,
   "metadata": {},
   "outputs": [
    {
     "ename": "ModuleNotFoundError",
     "evalue": "No module named 'matplotlib'",
     "output_type": "error",
     "traceback": [
      "\u001b[31m---------------------------------------------------------------------------\u001b[39m",
      "\u001b[31mModuleNotFoundError\u001b[39m                       Traceback (most recent call last)",
      "\u001b[36mCell\u001b[39m\u001b[36m \u001b[39m\u001b[32mIn[7]\u001b[39m\u001b[32m, line 3\u001b[39m\n\u001b[32m      1\u001b[39m \u001b[38;5;28;01mimport\u001b[39;00m\u001b[38;5;250m \u001b[39m\u001b[34;01mpandas\u001b[39;00m\u001b[38;5;250m \u001b[39m\u001b[38;5;28;01mas\u001b[39;00m\u001b[38;5;250m \u001b[39m\u001b[34;01mpd\u001b[39;00m\n\u001b[32m      2\u001b[39m \u001b[38;5;28;01mimport\u001b[39;00m\u001b[38;5;250m \u001b[39m\u001b[34;01mnumpy\u001b[39;00m\u001b[38;5;250m \u001b[39m\u001b[38;5;28;01mas\u001b[39;00m\u001b[38;5;250m \u001b[39m\u001b[34;01mnp\u001b[39;00m\n\u001b[32m----> \u001b[39m\u001b[32m3\u001b[39m \u001b[38;5;28;01mimport\u001b[39;00m\u001b[38;5;250m \u001b[39m\u001b[34;01mmatplotlib\u001b[39;00m\u001b[34;01m.\u001b[39;00m\u001b[34;01mpyplot\u001b[39;00m\u001b[38;5;250m \u001b[39m\u001b[38;5;28;01mas\u001b[39;00m\u001b[38;5;250m \u001b[39m\u001b[34;01mplt\u001b[39;00m \u001b[38;5;66;03m# type: ignore\u001b[39;00m\n\u001b[32m      4\u001b[39m \u001b[38;5;28;01mimport\u001b[39;00m\u001b[38;5;250m \u001b[39m\u001b[34;01mseaborn\u001b[39;00m\u001b[38;5;250m \u001b[39m\u001b[38;5;28;01mas\u001b[39;00m\u001b[38;5;250m \u001b[39m\u001b[34;01msns\u001b[39;00m \u001b[38;5;66;03m# type: ignore\u001b[39;00m\n\u001b[32m      5\u001b[39m \u001b[38;5;28;01mfrom\u001b[39;00m\u001b[38;5;250m \u001b[39m\u001b[34;01msklearn\u001b[39;00m\u001b[34;01m.\u001b[39;00m\u001b[34;01mmodel_selection\u001b[39;00m\u001b[38;5;250m \u001b[39m\u001b[38;5;28;01mimport\u001b[39;00m train_test_split \u001b[38;5;66;03m# type: ignore\u001b[39;00m\n",
      "\u001b[31mModuleNotFoundError\u001b[39m: No module named 'matplotlib'"
     ]
    }
   ],
   "source": [
    "import pandas as pd\n",
    "import numpy as np\n",
    "import matplotlib.pyplot as plt \n",
    "import seaborn as sns\n",
    "from sklearn.model_selection import train_test_split\n",
    "from sklearn.preprocessing import StandardScaler, OneHotEncoder\n",
    "from sklearn.compose import ColumnTransformer\n",
    "from sklearn.pipeline import Pipeline\n",
    "from sklearn.ensemble import RandomForestRegressor, GradientBoostingRegressor\n",
    "from sklearn.linear_model import LinearRegression\n",
    "from sklearn.metrics import mean_squared_error, r2_score\n",
    "from sklearn.model_selection import GridSearchCV\n",
    "\n",
    "# Load the data\n",
    "df = pd.read_csv('Bengaluru_House_Data.csv')\n",
    "\n",
    "# Initial data exploration\n",
    "print(df.head())\n",
    "print(df.info())\n",
    "print(df.describe())\n",
    "print(df.isnull().sum())"
   ]
  }
 ],
 "metadata": {
  "kernelspec": {
   "display_name": "Python 3",
   "language": "python",
   "name": "python3"
  },
  "language_info": {
   "codemirror_mode": {
    "name": "ipython",
    "version": 3
   },
   "file_extension": ".py",
   "mimetype": "text/x-python",
   "name": "python",
   "nbconvert_exporter": "python",
   "pygments_lexer": "ipython3",
   "version": "3.13.1"
  }
 },
 "nbformat": 4,
 "nbformat_minor": 2
}
